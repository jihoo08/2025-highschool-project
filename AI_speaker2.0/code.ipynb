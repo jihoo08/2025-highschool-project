{
 "cells": [
  {
   "cell_type": "code",
   "execution_count": null,
   "metadata": {},
   "outputs": [],
   "source": [
    "import speech_recognition as sr\n",
    "import pyttsx3\n",
    "import openai\n",
    "from pingpongthread import PingPongThread\n",
    "from time import sleep\n",
    "from keyboard import is_pressed"
   ]
  },
  {
   "cell_type": "code",
   "execution_count": null,
   "metadata": {},
   "outputs": [
    {
     "name": "stdout",
     "output_type": "stream",
     "text": [
      "Found device: USB 직렬 장치(COM3)\n",
      "Serial connected.\n",
      "Write data: FF FF 46 FF 20 00 AD 00 0B 1A 46\n"
     ]
    }
   ],
   "source": [
    "# 로봇을 연결하는 인스턴스 생성.\n",
    "PingPong = PingPongThread(number=2, group_id=46)\n",
    "# 로봇 제어 쓰레드 시작.\n",
    "PingPong.start()"
   ]
  },
  {
   "cell_type": "code",
   "execution_count": null,
   "metadata": {},
   "outputs": [
    {
     "data": {
      "text/plain": [
       "['Microsoft Sound Mapper - Input',\n",
       " '마이크(Realtek(R) Audio)',\n",
       " 'Microsoft Sound Mapper - Output',\n",
       " '스피커(Realtek(R) Audio)',\n",
       " '주 사운드 캡처 드라이버',\n",
       " '마이크(Realtek(R) Audio)',\n",
       " '주 사운드 드라이버',\n",
       " '스피커(Realtek(R) Audio)',\n",
       " '스피커(Realtek(R) Audio)',\n",
       " '마이크(Realtek(R) Audio)',\n",
       " '스테레오 믹스 (Realtek HD Audio Stereo input)',\n",
       " 'Speakers 1 (Realtek HDA Primary output with SST)',\n",
       " 'Speakers 2 (Realtek HDA Primary output with SST)',\n",
       " 'PC 스피커 (Realtek HDA Primary output with SST)',\n",
       " 'Headphones 1 (Realtek HD Audio 2nd output with SST)',\n",
       " 'Headphones 2 (Realtek HD Audio 2nd output with SST)',\n",
       " 'PC 스피커 (Realtek HD Audio 2nd output with SST)',\n",
       " '마이크 (Realtek HD Audio Mic input)']"
      ]
     },
     "metadata": {},
     "output_type": "display_data"
    },
    {
     "name": "stdout",
     "output_type": "stream",
     "text": [
      "Connected with a master robot.\n",
      "Connected robots: 2\n",
      "Fully connected.\n"
     ]
    }
   ],
   "source": [
    "# 오디오 장치의 리스트를 확인.\n",
    "PingPong.get_audio_list()"
   ]
  },
  {
   "cell_type": "code",
   "execution_count": null,
   "metadata": {},
   "outputs": [],
   "source": [
    "\n",
    "# OpenAI API 키 입력\n",
    "openai.api_key = 'your-openai-api-key'\n",
    "\n",
    "# 음성 합성 엔진 초기화\n",
    "engine = pyttsx3.init()\n",
    "\n",
    "def speak(text):\n",
    "    engine.say(text)\n",
    "    engine.runAndWait()\n",
    "\n",
    "def listen():\n",
    "    r = sr.Recognizer()\n",
    "    with sr.Microphone() as source:\n",
    "        print(\"🎤 Listening...\")\n",
    "        audio = r.listen(source)\n",
    "    try:\n",
    "        text = r.recognize_google(audio, language='ko-KR')\n",
    "        print(f\"👂 Heard: {text}\")\n",
    "        return text\n",
    "    except sr.UnknownValueError:\n",
    "        return \"음성을 인식하지 못했어요.\"\n",
    "    except sr.RequestError:\n",
    "        return \"음성 인식 오류가 발생했습니다.\"\n",
    "\n",
    "def ask_chatgpt(prompt):\n",
    "    response = openai.ChatCompletion.create(\n",
    "        model=\"gpt-4\",\n",
    "        messages=[{\"role\": \"user\", \"content\": prompt}]\n",
    "    )\n",
    "    return response['choices'][0]['message']['content']\n",
    "\n",
    "# 핑퐁 로봇 시작 (한 번만 실행)\n",
    "robot = PingPongThread()\n",
    "robot.start()\n"
   ]
  },
  {
   "cell_type": "code",
   "execution_count": null,
   "metadata": {},
   "outputs": [],
   "source": [
    "# 음성 듣기\n",
    "command = listen()\n",
    "\n",
    "# GPT에게 질문\n",
    "response = ask_chatgpt(command)\n",
    "\n",
    "# 대답\n",
    "speak(response)\n",
    "print(f\"🤖 ChatGPT: {response}\")\n",
    "\n",
    "# 로봇 제어 예시\n",
    "if \"왼쪽\" in command:\n",
    "    robot.move_left()\n",
    "elif \"오른쪽\" in command:\n",
    "    robot.move_right()\n",
    "elif \"멈춰\" in command:\n",
    "    robot.stop()\n",
    "elif \"종료\" in command:\n",
    "    speak(\"로봇을 종료합니다.\")\n",
    "    robot.stop()\n"
   ]
  }
 ],
 "metadata": {
  "language_info": {
   "name": "python"
  },
  "orig_nbformat": 4
 },
 "nbformat": 4,
 "nbformat_minor": 2
}
