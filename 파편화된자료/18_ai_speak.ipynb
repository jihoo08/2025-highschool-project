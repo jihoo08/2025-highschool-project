{
 "cells": [
  {
   "cell_type": "code",
   "execution_count": 1,
   "id": "2e830578",
   "metadata": {},
   "outputs": [],
   "source": [
    "# 핑퐁 로봇 제어 모듈 import.\n",
    "from pingpongthread import PingPongThread\n",
    "from time import sleep\n",
    "from keyboard import is_pressed"
   ]
  },
  {
   "cell_type": "code",
   "execution_count": 2,
   "id": "0fa237d4",
   "metadata": {},
   "outputs": [
    {
     "name": "stdout",
     "output_type": "stream",
     "text": [
      "Found device: USB 직렬 장치(COM3)\n",
      "Serial connected.\n",
      "Write data: FF FF 46 FF 20 00 AD 00 0B 1A 46\n"
     ]
    }
   ],
   "source": [
    "# 로봇을 연결하는 인스턴스 생성.\n",
    "PingPong = PingPongThread(number=2, group_id=46)\n",
    "# 로봇 제어 쓰레드 시작.\n",
    "PingPong.start()"
   ]
  },
  {
   "cell_type": "code",
   "execution_count": 3,
   "id": "a6e7c8a2",
   "metadata": {},
   "outputs": [
    {
     "data": {
      "text/plain": [
       "['Microsoft Sound Mapper - Input',\n",
       " '마이크(Realtek(R) Audio)',\n",
       " 'Microsoft Sound Mapper - Output',\n",
       " '스피커(Realtek(R) Audio)',\n",
       " '주 사운드 캡처 드라이버',\n",
       " '마이크(Realtek(R) Audio)',\n",
       " '주 사운드 드라이버',\n",
       " '스피커(Realtek(R) Audio)',\n",
       " '스피커(Realtek(R) Audio)',\n",
       " '마이크(Realtek(R) Audio)',\n",
       " '스테레오 믹스 (Realtek HD Audio Stereo input)',\n",
       " 'Speakers 1 (Realtek HDA Primary output with SST)',\n",
       " 'Speakers 2 (Realtek HDA Primary output with SST)',\n",
       " 'PC 스피커 (Realtek HDA Primary output with SST)',\n",
       " 'Headphones 1 (Realtek HD Audio 2nd output with SST)',\n",
       " 'Headphones 2 (Realtek HD Audio 2nd output with SST)',\n",
       " 'PC 스피커 (Realtek HD Audio 2nd output with SST)',\n",
       " '마이크 (Realtek HD Audio Mic input)']"
      ]
     },
     "execution_count": 3,
     "metadata": {},
     "output_type": "execute_result"
    },
    {
     "name": "stdout",
     "output_type": "stream",
     "text": [
      "Connected with a master robot.\n",
      "Connected robots: 2\n",
      "Fully connected.\n"
     ]
    }
   ],
   "source": [
    "# 오디오 장치의 리스트를 확인.\n",
    "PingPong.get_audio_list()"
   ]
  },
  {
   "cell_type": "code",
   "execution_count": null,
   "id": "ab2e124a",
   "metadata": {},
   "outputs": [
    {
     "name": "stdout",
     "output_type": "stream",
     "text": [
      "스페이스 키를 누르면 음성인식을 시작합니다.\n",
      "마이크를 인식하는 중입니다.\n",
      "결과: 안녕하세요\n",
      "마이크를 인식하는 중입니다.\n",
      "결과: Voice recognition failed.\n",
      "마이크를 인식하는 중입니다.\n",
      "결과: 안녕\n",
      "마이크를 인식하는 중입니다.\n",
      "결과: 안녕\n",
      "마이크를 인식하는 중입니다.\n",
      "결과: Voice recognition failed.\n",
      "마이크를 인식하는 중입니다.\n",
      "결과: Voice recognition failed.\n",
      "마이크를 인식하는 중입니다.\n",
      "결과: 내가 이렇게 될 거야 이렇게 되는데 한쪽으로 돼 있잖아 이걸 이렇게 꺼내는 모습으로 돌아가지 않을까 뭐야 해 봐 봐 한번 해 봐 준 거잖아 여기다 붙일 거잖아 연결된데 있을 거니까 활용하는 방법에서 레고랑 이런 것도 활용해서 아마 내가 보기 이게 좀 더 안정적인 잘 생각해서 얘들아 여기다 충전을 이렇게 이따가 정리할 때 같이 하셔야 돼\n",
      "마이크를 인식하는 중입니다.\n",
      "Disconnected with a master robot.\n",
      "Reconnecting with serial...\n",
      "Found device: USB 직렬 장치(COM3)\n",
      "Write data: FF FF 46 FF 20 00 AD 00 0B 1A 46\n",
      "결과: 크롬 아이디가 이거 그룹 아이디가 그거고 그룹 아이디가 그 종이에 써 있는 거고 넘버가 개수는 보통 두 개 뭐 했어 거기다가 그려도 돼 지호 여기 버리고 왔어 나도 그래 자꾸 물어보게 되는 거지 우리가 보고 간다\n"
     ]
    }
   ],
   "source": [
    "# text 변수를 TTS(Text To Speech)를 하는 tts_ko 함수로 말하기. \n",
    "PingPong.tts_ko(\"스페이스 키를 누르면 음성인식을 시작합니다.\",True)\n",
    "# 음성 인식을 하는 루프.\n",
    "while not is_pressed('esc'):\n",
    "    # 스페이스 바 키가 눌렸으면 목소리 인식.\n",
    "    if is_pressed(\" \"):\n",
    "        print(\"마이크를 인식하는 중입니다.\")\n",
    "        # voice_recognize_ko 함수로 목소리 인식.\n",
    "        # audio_input_index는 오디오 장치 리스트에서 확인한 마이크의 인덱스.\n",
    "        result = PingPong.voice_recognize_ko(audio_input_index=0)\n",
    "        print(\"결과:\", result)"
   ]
  },
  {
   "cell_type": "code",
   "execution_count": null,
   "id": "c56f2d7d",
   "metadata": {
    "scrolled": false
   },
   "outputs": [],
   "source": [
    "# 2. '안녕'이라고 말하면 '안녕하세요!'하고 답하기\n",
    "PingPong.tts_ko(\"스페이스 키를 누르면 음성인식을 시작합니다.\",True)\n",
    "# 음성 인식을 하는 루프.\n",
    "while not is_pressed('esc'):\n",
    "    # 스페이스 바 키가 눌렸으면 목소리 인식.\n",
    "    if is_pressed(\" \"):\n",
    "        print(\"마이크를 인식하는 중입니다.\")\n",
    "        result = PingPong.voice_recognize_ko(audio_input_index=0)\n",
    "        print(\"결과:\",result)\n",
    "        if result =='안녕': \n",
    "            PingPong.tts_ko( \"안녕하세요!\", is_print=True)\n",
    "            break\n",
    "        else:\n",
    "            print(\"스페이스 키를 다시 누르세요.\")"
   ]
  },
  {
   "cell_type": "code",
   "execution_count": null,
   "id": "df410caa",
   "metadata": {},
   "outputs": [],
   "source": [
    "# 핑퐁 스레드 종료\n",
    "PingPong.end()"
   ]
  },
  {
   "cell_type": "code",
   "execution_count": null,
   "id": "079f8ce7",
   "metadata": {},
   "outputs": [],
   "source": []
  }
 ],
 "metadata": {
  "kernelspec": {
   "display_name": "Python 3 (ipykernel)",
   "language": "python",
   "name": "python3"
  },
  "language_info": {
   "codemirror_mode": {
    "name": "ipython",
    "version": 3
   },
   "file_extension": ".py",
   "mimetype": "text/x-python",
   "name": "python",
   "nbconvert_exporter": "python",
   "pygments_lexer": "ipython3",
   "version": "3.10.12"
  }
 },
 "nbformat": 4,
 "nbformat_minor": 5
}
